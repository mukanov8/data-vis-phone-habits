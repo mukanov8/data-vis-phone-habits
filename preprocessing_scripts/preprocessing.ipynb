{
 "cells": [
  {
   "cell_type": "code",
   "execution_count": null,
   "metadata": {},
   "outputs": [],
   "source": [
    "import pandas as pd\n",
    "import os"
   ]
  },
  {
   "cell_type": "code",
   "execution_count": null,
   "metadata": {},
   "outputs": [],
   "source": [
    "def get_app_usage_from_csv(file_path):\n",
    "    \"\"\"\n",
    "    Reads the app usage data from the csv file and returns the dataframe.\n",
    "    \"\"\"\n",
    "    df = pd.read_csv(file_path)\n",
    "    df = df[df.type.isin(['MOVE_TO_FOREGROUND', 'MOVE_TO_BACKGROUND'])]  \n",
    "    df.set_index('timestamp', drop=True, inplace=True) \n",
    "    df['timestamp'] = pd.to_datetime(df.index, unit='ms') \n",
    "    \n",
    "    df['start_timestamp'] = df.index\n",
    "    df['end_timestamp'] = df.index\n",
    "    end_time = df.index.copy()\n",
    "    end_time = end_time[1:]\n",
    "    df = df[:len(df)-1]\n",
    "    df['end_timestamp'] = end_time\n",
    "    df = df[df.type.isin(['MOVE_TO_FOREGROUND'])]  \n",
    "    \n",
    "    df = df[['name', 'packageName', 'start_timestamp', 'end_timestamp']]\n",
    "    \n",
    "    df['start_timestamp'] = pd.to_datetime(df.start_timestamp, unit='ms', utc=True).dt.tz_convert('Asia/Seoul')\n",
    "    df['end_timestamp'] = pd.to_datetime(df.end_timestamp, unit='ms', utc=True).dt.tz_convert('Asia/Seoul')\n",
    "    \n",
    "    df['duration'] = (df.end_timestamp - df.start_timestamp).dt.total_seconds()\n",
    "    \n",
    "    df = df.groupby(['timestamp']).first()\n",
    "    return df\n",
    "\n",
    "\n"
   ]
  },
  {
   "cell_type": "code",
   "execution_count": null,
   "metadata": {},
   "outputs": [],
   "source": [
    "def get_files_with_event_entity(user_id):\n",
    "    \"\"\"\n",
    "    Returns all filenames starting with AppUsageEventEntity in the data folder.\n",
    "    \"\"\"\n",
    "    files = [f for f in os.listdir(f'./users/{user_id}') if f.startswith('AppUsageEventEntity')]\n",
    "    return files\n",
    "    "
   ]
  },
  {
   "cell_type": "code",
   "execution_count": null,
   "metadata": {},
   "outputs": [],
   "source": [
    "def read_app_usage_for_user_id(user_id):\n",
    "    \"\"\"\n",
    "    Reads all AppUsageEventEntity files for a user id and returns a dataframe.\n",
    "    \"\"\"\n",
    "    files = get_files_with_event_entity(user_id)\n",
    "    df = pd.DataFrame()\n",
    "    for file in files:\n",
    "        df = pd.concat([df, get_app_usage_from_csv(f'./users/{user_id}/{file}')])\n",
    "    df['user_id'] = user_id\n",
    "    df['hour'] = df.start_timestamp.dt.hour\n",
    "    return df\n"
   ]
  },
  {
   "cell_type": "code",
   "execution_count": null,
   "metadata": {},
   "outputs": [],
   "source": [
    "def get_user_folders():\n",
    "    \"\"\"\n",
    "    Returns all filenames starting with AppUsageEventEntity in the data folder.\n",
    "    \"\"\"\n",
    "    files =  os.listdir(f'./users')\n",
    "    return files\n",
    "    \n",
    "    "
   ]
  },
  {
   "cell_type": "code",
   "execution_count": null,
   "metadata": {},
   "outputs": [],
   "source": [
    "def read_all_folders():\n",
    "    user_folders = get_user_folders()\n",
    "    df = pd.DataFrame()\n",
    "    for folder in user_folders:        \n",
    "        df = pd.concat([df,  read_app_usage_for_user_id(folder)])\n",
    "    return df"
   ]
  },
  {
   "cell_type": "code",
   "execution_count": null,
   "metadata": {},
   "outputs": [],
   "source": [
    "app_usage_data = read_all_folders()\n",
    "app_usage_data.info()\n",
    "# app_usage_data.groupby(['name', 'hour']).nunique().reset_index().sort_values(by='hour').head(15) \n"
   ]
  },
  {
   "cell_type": "code",
   "execution_count": null,
   "metadata": {},
   "outputs": [],
   "source": [
    "app_usage_data.to_csv('./app_usage_data2.csv')"
   ]
  }
 ],
 "metadata": {
  "interpreter": {
   "hash": "916dbcbb3f70747c44a77c7bcd40155683ae19c65e1c03b4aa3499c5328201f1"
  },
  "kernelspec": {
   "display_name": "Python 3.8.10 64-bit",
   "language": "python",
   "name": "python3"
  },
  "language_info": {
   "codemirror_mode": {
    "name": "ipython",
    "version": 3
   },
   "file_extension": ".py",
   "mimetype": "text/x-python",
   "name": "python",
   "nbconvert_exporter": "python",
   "pygments_lexer": "ipython3",
   "version": "3.8.10"
  },
  "orig_nbformat": 4
 },
 "nbformat": 4,
 "nbformat_minor": 2
}
