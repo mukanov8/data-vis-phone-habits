{
 "cells": [
  {
   "cell_type": "code",
   "execution_count": null,
   "metadata": {},
   "outputs": [],
   "source": [
    "import pandas as pd\n",
    "import os"
   ]
  },
  {
   "cell_type": "code",
   "execution_count": null,
   "metadata": {},
   "outputs": [],
   "source": [
    "file_path = './app_usage_data1.csv'\n",
    "def process_again(file_path):\n",
    "    df = pd.read_csv(file_path)\n",
    "    df['start_timestamp'] = pd.to_datetime(df.start_timestamp, infer_datetime_format=True) \n",
    "    df['end_timestamp'] = pd.to_datetime(df.end_timestamp, infer_datetime_format=True) \n",
    "    df['weekday'] = df.start_timestamp.dt.dayofweek    \n",
    "    df['timestamp_string'] = df.start_timestamp.dt.strftime('%Y-%m-%d %H:%M:%S')\n",
    "    df.sort_values(by=['user_id','start_timestamp'], inplace=True)\n",
    "    df.head(10)\n",
    "    return df\n",
    "    "
   ]
  },
  {
   "cell_type": "code",
   "execution_count": null,
   "metadata": {},
   "outputs": [],
   "source": [
    "new_df = process_again(file_path)\n",
    "new_df.user_id.unique()"
   ]
  },
  {
   "cell_type": "code",
   "execution_count": null,
   "metadata": {},
   "outputs": [],
   "source": [
    "# new_df.to_csv(f'{file_path}_sorted.csv')"
   ]
  }
 ],
 "metadata": {
  "interpreter": {
   "hash": "916dbcbb3f70747c44a77c7bcd40155683ae19c65e1c03b4aa3499c5328201f1"
  },
  "kernelspec": {
   "display_name": "Python 3.8.10 64-bit",
   "language": "python",
   "name": "python3"
  },
  "language_info": {
   "codemirror_mode": {
    "name": "ipython",
    "version": 3
   },
   "file_extension": ".py",
   "mimetype": "text/x-python",
   "name": "python",
   "nbconvert_exporter": "python",
   "pygments_lexer": "ipython3",
   "version": "3.8.10"
  },
  "orig_nbformat": 4
 },
 "nbformat": 4,
 "nbformat_minor": 2
}
